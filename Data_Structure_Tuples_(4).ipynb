{
  "cells": [
    {
      "cell_type": "markdown",
      "metadata": {
        "id": "view-in-github",
        "colab_type": "text"
      },
      "source": [
        "<a href=\"https://colab.research.google.com/github/vananthi/Python_Data_Structures/blob/main/Data_Structure_Tuples_(4).ipynb\" target=\"_parent\"><img src=\"https://colab.research.google.com/assets/colab-badge.svg\" alt=\"Open In Colab\"/></a>"
      ]
    },
    {
      "cell_type": "markdown",
      "metadata": {
        "id": "jzA_JujDH3xN"
      },
      "source": [
        "## Tuples\n",
        "\n",
        "   - Tuples are ordered sequence of mixed data types\n",
        "   - Tuples are written in comma separated elements within parenthesis\n",
        "   - Tuples are unchangeable and accepte dupilicate values"
      ]
    },
    {
      "cell_type": "code",
      "execution_count": 46,
      "metadata": {
        "id": "vVCNwRClH3xW"
      },
      "outputs": [],
      "source": [
        "t = (1,2,2,'apple',True,1+0j,4) # accept all data types # accept duplicate values"
      ]
    },
    {
      "cell_type": "code",
      "execution_count": 47,
      "metadata": {
        "id": "YSrK766sH3xn",
        "outputId": "32de8636-66ab-4a7e-b56a-da23e97c3bb6",
        "colab": {
          "base_uri": "https://localhost:8080/"
        }
      },
      "outputs": [
        {
          "output_type": "execute_result",
          "data": {
            "text/plain": [
              "tuple"
            ]
          },
          "metadata": {},
          "execution_count": 47
        }
      ],
      "source": [
        "type(t) # to find type"
      ]
    },
    {
      "cell_type": "code",
      "source": [
        "len(t) # to find length"
      ],
      "metadata": {
        "id": "W1k1SNGfKJd4",
        "outputId": "5c0c71c6-32ff-4f5f-f161-962d6c2c6c8c",
        "colab": {
          "base_uri": "https://localhost:8080/"
        }
      },
      "execution_count": 48,
      "outputs": [
        {
          "output_type": "execute_result",
          "data": {
            "text/plain": [
              "7"
            ]
          },
          "metadata": {},
          "execution_count": 48
        }
      ]
    },
    {
      "cell_type": "code",
      "source": [
        "t[2] # indexable possi ble"
      ],
      "metadata": {
        "colab": {
          "base_uri": "https://localhost:8080/"
        },
        "id": "eg8k9pia-xDf",
        "outputId": "83e9de81-a356-4143-d7e9-b47b8d4ea561"
      },
      "execution_count": 49,
      "outputs": [
        {
          "output_type": "execute_result",
          "data": {
            "text/plain": [
              "2"
            ]
          },
          "metadata": {},
          "execution_count": 49
        }
      ]
    },
    {
      "cell_type": "code",
      "source": [
        "t[2:5] #slicing is possible"
      ],
      "metadata": {
        "colab": {
          "base_uri": "https://localhost:8080/"
        },
        "id": "BxS5QIkh_Rie",
        "outputId": "9431a1b8-0ac2-49c6-b27a-f425e1c59fac"
      },
      "execution_count": 50,
      "outputs": [
        {
          "output_type": "execute_result",
          "data": {
            "text/plain": [
              "(2, 'apple', True)"
            ]
          },
          "metadata": {},
          "execution_count": 50
        }
      ]
    },
    {
      "cell_type": "code",
      "execution_count": 51,
      "metadata": {
        "id": "tKLXGvbSH3xx",
        "colab": {
          "base_uri": "https://localhost:8080/"
        },
        "outputId": "d2efdc43-6f94-4213-dfe0-5cfc9b43387f"
      },
      "outputs": [
        {
          "output_type": "stream",
          "name": "stdout",
          "text": [
            "(1,)\n"
          ]
        }
      ],
      "source": [
        "#single value tuple\n",
        "\n",
        "t2 = 1,\n",
        "print(t2)"
      ]
    },
    {
      "cell_type": "code",
      "source": [
        "type(t2)"
      ],
      "metadata": {
        "colab": {
          "base_uri": "https://localhost:8080/"
        },
        "id": "n0uitiV7CjbQ",
        "outputId": "2bb5c7b2-22a4-4785-a431-963a893d92f0"
      },
      "execution_count": 52,
      "outputs": [
        {
          "output_type": "execute_result",
          "data": {
            "text/plain": [
              "tuple"
            ]
          },
          "metadata": {},
          "execution_count": 52
        }
      ]
    },
    {
      "cell_type": "code",
      "execution_count": 53,
      "metadata": {
        "id": "nYnigGDqH3xx"
      },
      "outputs": [],
      "source": [
        "#This is not a tuple\n",
        "\n",
        "t4 = 1\n",
        "t5 = (1)"
      ]
    },
    {
      "cell_type": "code",
      "source": [
        "type(t4)"
      ],
      "metadata": {
        "colab": {
          "base_uri": "https://localhost:8080/"
        },
        "id": "QnEgwOHzCeeU",
        "outputId": "568cd979-efb9-4f5e-f7b8-5a1e25d716d3"
      },
      "execution_count": 35,
      "outputs": [
        {
          "output_type": "execute_result",
          "data": {
            "text/plain": [
              "int"
            ]
          },
          "metadata": {},
          "execution_count": 35
        }
      ]
    },
    {
      "cell_type": "markdown",
      "metadata": {
        "id": "0KQQLVuZH3xx"
      },
      "source": [
        "#### Indexing in tuple"
      ]
    },
    {
      "cell_type": "code",
      "execution_count": 54,
      "metadata": {
        "id": "CQVDsETgH3xx"
      },
      "outputs": [],
      "source": [
        "t = (\"Mumbai\", 10, \"Python\", 100)"
      ]
    },
    {
      "cell_type": "code",
      "execution_count": 55,
      "metadata": {
        "id": "kQw3BypVH3xy",
        "outputId": "5d0bbb6c-9f09-405f-c68a-e5cbb7c94f8f",
        "colab": {
          "base_uri": "https://localhost:8080/"
        }
      },
      "outputs": [
        {
          "output_type": "execute_result",
          "data": {
            "text/plain": [
              "4"
            ]
          },
          "metadata": {},
          "execution_count": 55
        }
      ],
      "source": [
        "len(t)"
      ]
    },
    {
      "cell_type": "code",
      "execution_count": 56,
      "metadata": {
        "id": "Lj6aJ4S9H3xy",
        "outputId": "4349957c-5cbb-4125-c603-e1e8233c550e",
        "colab": {
          "base_uri": "https://localhost:8080/"
        }
      },
      "outputs": [
        {
          "output_type": "execute_result",
          "data": {
            "text/plain": [
              "100"
            ]
          },
          "metadata": {},
          "execution_count": 56
        }
      ],
      "source": [
        "t[-1]"
      ]
    },
    {
      "cell_type": "code",
      "execution_count": 57,
      "metadata": {
        "id": "PyGI_yy9H3xy",
        "outputId": "56051aa2-91ce-443c-d3f1-ca8e7044e2c2",
        "colab": {
          "base_uri": "https://localhost:8080/"
        }
      },
      "outputs": [
        {
          "output_type": "stream",
          "name": "stdout",
          "text": [
            "Mumbai\n",
            "10\n"
          ]
        }
      ],
      "source": [
        "#gives the element at index location 0 i.e. 1st element\n",
        "\n",
        "print(t[0])\n",
        "\n",
        "#gives the element at index location 1\n",
        "\n",
        "print(t[1])"
      ]
    },
    {
      "cell_type": "markdown",
      "metadata": {
        "id": "I5C6aK1JH3xy"
      },
      "source": [
        "#### Slicing"
      ]
    },
    {
      "cell_type": "code",
      "execution_count": 58,
      "metadata": {
        "id": "iKIhdTfvH3xy",
        "outputId": "e6462afe-7521-443c-e741-300c9c2aca23",
        "colab": {
          "base_uri": "https://localhost:8080/"
        }
      },
      "outputs": [
        {
          "output_type": "execute_result",
          "data": {
            "text/plain": [
              "('Mumbai', 10)"
            ]
          },
          "metadata": {},
          "execution_count": 58
        }
      ],
      "source": [
        "#slicing first 2 elements from t\n",
        "\n",
        "t = (\"Mumbai\", 10, \"Python\", 100)\n",
        "\n",
        "t[0:2]"
      ]
    },
    {
      "cell_type": "code",
      "execution_count": 59,
      "metadata": {
        "id": "332MUz0eH3xz",
        "outputId": "7ee53f7c-49d9-4db7-fa36-3e837f7554bc",
        "colab": {
          "base_uri": "https://localhost:8080/"
        }
      },
      "outputs": [
        {
          "output_type": "execute_result",
          "data": {
            "text/plain": [
              "('Python', 100)"
            ]
          },
          "metadata": {},
          "execution_count": 59
        }
      ],
      "source": [
        "t[2:]"
      ]
    },
    {
      "cell_type": "code",
      "execution_count": 64,
      "metadata": {
        "id": "LWg8f1fJH3xz",
        "outputId": "d7c54790-70c4-4e59-908b-4f9bbfc77690",
        "colab": {
          "base_uri": "https://localhost:8080/"
        }
      },
      "outputs": [
        {
          "output_type": "execute_result",
          "data": {
            "text/plain": [
              "(100, 'Python', 10, 'Mumbai')"
            ]
          },
          "metadata": {},
          "execution_count": 64
        }
      ],
      "source": [
        "#slicing last 2 elements from t\n",
        "\n",
        "t[:-1]"
      ]
    },
    {
      "cell_type": "code",
      "execution_count": 65,
      "metadata": {
        "id": "wDkJhYKsH3x0",
        "outputId": "13e81a72-5eec-4f9c-8e2b-3e72a02eecb2",
        "colab": {
          "base_uri": "https://localhost:8080/"
        }
      },
      "outputs": [
        {
          "output_type": "execute_result",
          "data": {
            "text/plain": [
              "4"
            ]
          },
          "metadata": {},
          "execution_count": 65
        }
      ],
      "source": [
        "#find the number of elements in a tuple\n",
        "\n",
        "len(t)"
      ]
    },
    {
      "cell_type": "markdown",
      "metadata": {
        "id": "lGTLMUxBH3x1"
      },
      "source": [
        "#### Concatenation"
      ]
    },
    {
      "cell_type": "code",
      "execution_count": 66,
      "metadata": {
        "id": "EcTvclBmH3x1"
      },
      "outputs": [],
      "source": [
        "tup1 = (\"welcome\", \"to\", \"today's\")\n",
        "tup2 = (\"class\", \"on\", \"python\")"
      ]
    },
    {
      "cell_type": "code",
      "execution_count": 67,
      "metadata": {
        "id": "jr9etSdTH3x1"
      },
      "outputs": [],
      "source": [
        "tup3 = tup1 + tup2"
      ]
    },
    {
      "cell_type": "code",
      "execution_count": null,
      "metadata": {
        "id": "d1Z9rOPlH3x2",
        "outputId": "c9cd5900-6dc3-4998-b433-38b0c93a6e5a"
      },
      "outputs": [
        {
          "data": {
            "text/plain": [
              "('welcome', 'to', \"today's\", 'class', 'on', 'python')"
            ]
          },
          "execution_count": 107,
          "metadata": {},
          "output_type": "execute_result"
        }
      ],
      "source": [
        "tup3"
      ]
    },
    {
      "cell_type": "markdown",
      "metadata": {
        "id": "5Jy5qG4UH3x2"
      },
      "source": [
        "#### min, max, sum functions"
      ]
    },
    {
      "cell_type": "code",
      "execution_count": 68,
      "metadata": {
        "id": "N460u5kCH3x2",
        "outputId": "14226532-707b-423a-d461-b9d3560aef80",
        "colab": {
          "base_uri": "https://localhost:8080/"
        }
      },
      "outputs": [
        {
          "output_type": "execute_result",
          "data": {
            "text/plain": [
              "20"
            ]
          },
          "metadata": {},
          "execution_count": 68
        }
      ],
      "source": [
        "t = (2,4,6,8)\n",
        "sum(t)"
      ]
    },
    {
      "cell_type": "code",
      "execution_count": 69,
      "metadata": {
        "id": "ZhSe_HboH3x3",
        "outputId": "52939593-ceb4-4352-f93c-baac7d03fccb",
        "colab": {
          "base_uri": "https://localhost:8080/"
        }
      },
      "outputs": [
        {
          "output_type": "execute_result",
          "data": {
            "text/plain": [
              "2"
            ]
          },
          "metadata": {},
          "execution_count": 69
        }
      ],
      "source": [
        "t = (2,4,6,8)\n",
        "min(t)"
      ]
    },
    {
      "cell_type": "code",
      "execution_count": 70,
      "metadata": {
        "id": "DYMDt6qaH3x4",
        "outputId": "4b8b21ff-7449-4dcc-c922-2cdaff310ce8",
        "colab": {
          "base_uri": "https://localhost:8080/"
        }
      },
      "outputs": [
        {
          "output_type": "execute_result",
          "data": {
            "text/plain": [
              "8"
            ]
          },
          "metadata": {},
          "execution_count": 70
        }
      ],
      "source": [
        "t = (2,4,6,8)\n",
        "max(t)"
      ]
    },
    {
      "cell_type": "code",
      "execution_count": 71,
      "metadata": {
        "id": "-CxDSPZtH3x5",
        "outputId": "4d21d791-ada9-4bac-daf5-687ad6be5cb7",
        "colab": {
          "base_uri": "https://localhost:8080/"
        }
      },
      "outputs": [
        {
          "output_type": "execute_result",
          "data": {
            "text/plain": [
              "9"
            ]
          },
          "metadata": {},
          "execution_count": 71
        }
      ],
      "source": [
        "t = (5.5, 4.2, 5, 9)\n",
        "max(t)"
      ]
    },
    {
      "cell_type": "code",
      "execution_count": 72,
      "metadata": {
        "id": "myW4z3hHH3x6"
      },
      "outputs": [],
      "source": [
        "tuple1 = (1,2,3,4,\"hello\", \"world\", (1,2,3)) # nested is possible"
      ]
    },
    {
      "cell_type": "code",
      "execution_count": 73,
      "metadata": {
        "id": "O3vunrl5H3x6",
        "outputId": "4da840cc-7ed1-4d97-e70f-f733c9feda9b",
        "colab": {
          "base_uri": "https://localhost:8080/"
        }
      },
      "outputs": [
        {
          "output_type": "execute_result",
          "data": {
            "text/plain": [
              "2"
            ]
          },
          "metadata": {},
          "execution_count": 73
        }
      ],
      "source": [
        "tuple2 = (1,2,3)\n",
        "tuple2[1]"
      ]
    },
    {
      "cell_type": "code",
      "execution_count": 74,
      "metadata": {
        "id": "oEJQQBgTH3x6",
        "outputId": "f58f70d1-5517-4ea2-858f-f81e1d97294c",
        "colab": {
          "base_uri": "https://localhost:8080/"
        }
      },
      "outputs": [
        {
          "output_type": "execute_result",
          "data": {
            "text/plain": [
              "2"
            ]
          },
          "metadata": {},
          "execution_count": 74
        }
      ],
      "source": [
        "tuple1[6][1]"
      ]
    },
    {
      "cell_type": "markdown",
      "metadata": {
        "id": "2dYWlJ6pH3x6"
      },
      "source": [
        "#### Immutability"
      ]
    },
    {
      "cell_type": "code",
      "execution_count": 75,
      "metadata": {
        "id": "2V0xxNUVH3x_"
      },
      "outputs": [],
      "source": [
        "t = (\"Hello!!\", \"Welcome\" , 5, 10, \"world\", \"of\", \"Analytics!!\")"
      ]
    },
    {
      "cell_type": "code",
      "execution_count": 76,
      "metadata": {
        "id": "Hb2k36zXH3yA",
        "outputId": "bd1999e5-eeaf-41b7-91fc-8ef877345bdc",
        "colab": {
          "base_uri": "https://localhost:8080/"
        }
      },
      "outputs": [
        {
          "output_type": "execute_result",
          "data": {
            "text/plain": [
              "10"
            ]
          },
          "metadata": {},
          "execution_count": 76
        }
      ],
      "source": [
        "t[3]"
      ]
    },
    {
      "cell_type": "code",
      "execution_count": 77,
      "metadata": {
        "id": "5h-TgSDmH3yC",
        "outputId": "d0e1b954-ef7e-45e6-c143-b2d3c537c6e2",
        "colab": {
          "base_uri": "https://localhost:8080/",
          "height": 200
        }
      },
      "outputs": [
        {
          "output_type": "error",
          "ename": "TypeError",
          "evalue": "ignored",
          "traceback": [
            "\u001b[0;31m---------------------------------------------------------------------------\u001b[0m",
            "\u001b[0;31mTypeError\u001b[0m                                 Traceback (most recent call last)",
            "\u001b[0;32m<ipython-input-77-f436330bb6a6>\u001b[0m in \u001b[0;36m<cell line: 1>\u001b[0;34m()\u001b[0m\n\u001b[0;32m----> 1\u001b[0;31m \u001b[0mt\u001b[0m\u001b[0;34m[\u001b[0m\u001b[0;36m2\u001b[0m\u001b[0;34m]\u001b[0m \u001b[0;34m=\u001b[0m \u001b[0;34m\"to\"\u001b[0m  \u001b[0;31m# change is not possible\u001b[0m\u001b[0;34m\u001b[0m\u001b[0;34m\u001b[0m\u001b[0m\n\u001b[0m\u001b[1;32m      2\u001b[0m \u001b[0mt\u001b[0m\u001b[0;34m[\u001b[0m\u001b[0;36m3\u001b[0m\u001b[0;34m]\u001b[0m \u001b[0;34m=\u001b[0m \u001b[0;34m\"the\"\u001b[0m\u001b[0;34m\u001b[0m\u001b[0;34m\u001b[0m\u001b[0m\n",
            "\u001b[0;31mTypeError\u001b[0m: 'tuple' object does not support item assignment"
          ]
        }
      ],
      "source": [
        "t[2] = \"to\"  # change is not possible\n",
        "t[3] = \"the\""
      ]
    },
    {
      "cell_type": "code",
      "execution_count": 78,
      "metadata": {
        "id": "3mA7Gax2H3yE",
        "outputId": "eeca3095-33a4-41d9-a2ca-ed359d64dd6c",
        "colab": {
          "base_uri": "https://localhost:8080/"
        }
      },
      "outputs": [
        {
          "output_type": "execute_result",
          "data": {
            "text/plain": [
              "('Hello!!', 'Welcome')"
            ]
          },
          "metadata": {},
          "execution_count": 78
        }
      ],
      "source": [
        "t[0:2]"
      ]
    },
    {
      "cell_type": "code",
      "execution_count": 79,
      "metadata": {
        "id": "ff47lDS7H3yF",
        "outputId": "a61ea209-bc74-4be4-e5f1-b70e3449a788",
        "colab": {
          "base_uri": "https://localhost:8080/"
        }
      },
      "outputs": [
        {
          "output_type": "execute_result",
          "data": {
            "text/plain": [
              "('world', 'of', 'Analytics!!')"
            ]
          },
          "metadata": {},
          "execution_count": 79
        }
      ],
      "source": [
        "t[-3:]"
      ]
    },
    {
      "cell_type": "code",
      "execution_count": null,
      "metadata": {
        "id": "92Lkb-pQH3yF"
      },
      "outputs": [],
      "source": [
        "#How to update the 2nd and 3rd element\n",
        "\n",
        "new_tuple = t[0:2] + (\"to\", \"the\",) + t[-3:]"
      ]
    },
    {
      "cell_type": "code",
      "execution_count": null,
      "metadata": {
        "id": "OpRP1spaH3yG",
        "outputId": "64fa1286-a557-4c34-cc93-8164b7708e6d"
      },
      "outputs": [
        {
          "data": {
            "text/plain": [
              "('Hello!!', 'Welcome', 'to', 'the', 'world', 'of', 'Analytics!!')"
            ]
          },
          "execution_count": 131,
          "metadata": {},
          "output_type": "execute_result"
        }
      ],
      "source": [
        "new_tuple"
      ]
    },
    {
      "cell_type": "code",
      "execution_count": null,
      "metadata": {
        "id": "i1an1AF3H3yG",
        "outputId": "81d59ee1-f2d7-4240-b277-954747a13ab2"
      },
      "outputs": [
        {
          "data": {
            "text/plain": [
              "'disco'"
            ]
          },
          "execution_count": 132,
          "metadata": {},
          "output_type": "execute_result"
        }
      ],
      "source": [
        "#QUESTION\n",
        "\n",
        "t = (\"disco\", 12, 4.5)\n",
        "t[0]"
      ]
    },
    {
      "cell_type": "code",
      "execution_count": null,
      "metadata": {
        "id": "Xh8ZBvEEH3yH",
        "outputId": "14ff0288-3435-4ea2-cb14-845d92474b3d"
      },
      "outputs": [
        {
          "data": {
            "text/plain": [
              "'s'"
            ]
          },
          "execution_count": 133,
          "metadata": {},
          "output_type": "execute_result"
        }
      ],
      "source": [
        "t[0][2]"
      ]
    },
    {
      "cell_type": "markdown",
      "metadata": {
        "id": "BKY1ToLsH3yH"
      },
      "source": [
        "#### Sorting a tuple"
      ]
    },
    {
      "cell_type": "code",
      "execution_count": null,
      "metadata": {
        "id": "54m4OhgUH3yH",
        "outputId": "120452e8-fbb2-44bb-9ff0-dca115cc9269"
      },
      "outputs": [
        {
          "data": {
            "text/plain": [
              "[1, 2, 3, 4, 5, 8]"
            ]
          },
          "execution_count": 134,
          "metadata": {},
          "output_type": "execute_result"
        }
      ],
      "source": [
        "t = (2,3,8,5,4,1)\n",
        "\n",
        "sorted(t)"
      ]
    },
    {
      "cell_type": "code",
      "execution_count": 87,
      "metadata": {
        "id": "JCLajf9KH3yI"
      },
      "outputs": [],
      "source": [
        "# Nested tuples\n",
        "\n",
        "t = (1,5,\"Hello\",\"World\", (\"Java\", \"Python\"))"
      ]
    },
    {
      "cell_type": "code",
      "execution_count": 94,
      "metadata": {
        "id": "L-Gs0QbeH3yI",
        "outputId": "1622b5d7-4ff0-40ee-9211-8a4eb865168e",
        "colab": {
          "base_uri": "https://localhost:8080/",
          "height": 36
        }
      },
      "outputs": [
        {
          "output_type": "execute_result",
          "data": {
            "text/plain": [
              "'Java'"
            ],
            "application/vnd.google.colaboratory.intrinsic+json": {
              "type": "string"
            }
          },
          "metadata": {},
          "execution_count": 94
        }
      ],
      "source": [
        " #How to access Java ????\n",
        " t[4][0]"
      ]
    },
    {
      "cell_type": "code",
      "execution_count": 43,
      "metadata": {
        "id": "FDqib5RGH3yJ",
        "colab": {
          "base_uri": "https://localhost:8080/"
        },
        "outputId": "25965326-da5a-4f0b-bc16-c29d6ed64c95"
      },
      "outputs": [
        {
          "output_type": "execute_result",
          "data": {
            "text/plain": [
              "[1, 2, 4, 19, 22]"
            ]
          },
          "metadata": {},
          "execution_count": 43
        }
      ],
      "source": [
        "tuple1=(22,2,1,19,4)\n",
        "sorted(tuple1)"
      ]
    },
    {
      "cell_type": "code",
      "execution_count": 44,
      "metadata": {
        "id": "oiYQXqcDH3yJ",
        "outputId": "9f805ab4-42c7-4fb9-d246-303cd0bd2343",
        "colab": {
          "base_uri": "https://localhost:8080/"
        }
      },
      "outputs": [
        {
          "output_type": "stream",
          "name": "stdout",
          "text": [
            "(22, 19, 4, 2, 1)\n"
          ]
        }
      ],
      "source": [
        "list1 = sorted(tuple1, reverse=True)\n",
        "tuple2 = tuple(list1)\n",
        "print(tuple2)"
      ]
    },
    {
      "cell_type": "code",
      "source": [
        "# compare two values using tuble\n",
        "a=(1,2,3,4,5)\n",
        "b=(3,5,7,8)\n",
        "c=a+b\n",
        "c"
      ],
      "metadata": {
        "colab": {
          "base_uri": "https://localhost:8080/"
        },
        "id": "SX5M-ToIKtlF",
        "outputId": "b90d5101-14ec-4fa1-b290-158a1b2c3298"
      },
      "execution_count": 95,
      "outputs": [
        {
          "output_type": "execute_result",
          "data": {
            "text/plain": [
              "(1, 2, 3, 4, 5, 3, 5, 7, 8)"
            ]
          },
          "metadata": {},
          "execution_count": 95
        }
      ]
    }
  ],
  "metadata": {
    "kernelspec": {
      "display_name": "Python 3",
      "language": "python",
      "name": "python3"
    },
    "language_info": {
      "codemirror_mode": {
        "name": "ipython",
        "version": 3
      },
      "file_extension": ".py",
      "mimetype": "text/x-python",
      "name": "python",
      "nbconvert_exporter": "python",
      "pygments_lexer": "ipython3",
      "version": "3.7.3"
    },
    "colab": {
      "provenance": [],
      "include_colab_link": true
    }
  },
  "nbformat": 4,
  "nbformat_minor": 0
}