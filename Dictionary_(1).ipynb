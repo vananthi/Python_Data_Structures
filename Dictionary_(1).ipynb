{
  "cells": [
    {
      "cell_type": "markdown",
      "metadata": {
        "id": "view-in-github",
        "colab_type": "text"
      },
      "source": [
        "<a href=\"https://colab.research.google.com/github/vananthi/Python_Data_Structures/blob/main/Dictionary_(1).ipynb\" target=\"_parent\"><img src=\"https://colab.research.google.com/assets/colab-badge.svg\" alt=\"Open In Colab\"/></a>"
      ]
    },
    {
      "cell_type": "markdown",
      "metadata": {
        "id": "s1ta_kGi1nYP"
      },
      "source": [
        "## Dictionary\n",
        "\n",
        "   - Dictionary stores element as keys and value pairs\n",
        "   - The key is like an index, its always unique & immutable\n",
        "   - The values are the objects that contain information\n",
        "   - Values are accessed using their keys\n",
        "   - Each key is followed by a value separated by a colon\n",
        "   - Each key and value pair is separated by a comma enclosed inside curly\n",
        "    brackets"
      ]
    },
    {
      "cell_type": "code",
      "source": [
        "fruits= {1:'apple',2:'orange',3:'grapes'}"
      ],
      "metadata": {
        "id": "J0B_gcJM6ibA"
      },
      "execution_count": 1,
      "outputs": []
    },
    {
      "cell_type": "code",
      "source": [
        "type(fruits)"
      ],
      "metadata": {
        "id": "XMGtoHNk6tF-",
        "outputId": "91b85138-a28b-415e-9d39-cc9348bcb9e9",
        "colab": {
          "base_uri": "https://localhost:8080/"
        }
      },
      "execution_count": 2,
      "outputs": [
        {
          "output_type": "execute_result",
          "data": {
            "text/plain": [
              "dict"
            ]
          },
          "metadata": {},
          "execution_count": 2
        }
      ]
    },
    {
      "cell_type": "code",
      "source": [
        "len(fruits)"
      ],
      "metadata": {
        "id": "PAFFa7fX9Ipa",
        "outputId": "0312a0db-1153-425e-d442-4db48ec6b430",
        "colab": {
          "base_uri": "https://localhost:8080/"
        }
      },
      "execution_count": 3,
      "outputs": [
        {
          "output_type": "execute_result",
          "data": {
            "text/plain": [
              "3"
            ]
          },
          "metadata": {},
          "execution_count": 3
        }
      ]
    },
    {
      "cell_type": "code",
      "source": [
        "fruits.keys()"
      ],
      "metadata": {
        "id": "z2gH7ljy9X5R",
        "outputId": "ff06bd1e-74dd-4d96-a46c-8e8428fd0b4a",
        "colab": {
          "base_uri": "https://localhost:8080/"
        }
      },
      "execution_count": 4,
      "outputs": [
        {
          "output_type": "execute_result",
          "data": {
            "text/plain": [
              "dict_keys([1, 2, 3])"
            ]
          },
          "metadata": {},
          "execution_count": 4
        }
      ]
    },
    {
      "cell_type": "code",
      "source": [
        "fruits.values()"
      ],
      "metadata": {
        "id": "WHDJjWQT9n0t",
        "outputId": "c9678421-81ee-4d00-b801-b22432c9ea33",
        "colab": {
          "base_uri": "https://localhost:8080/"
        }
      },
      "execution_count": 5,
      "outputs": [
        {
          "output_type": "execute_result",
          "data": {
            "text/plain": [
              "dict_values(['apple', 'orange', 'grapes'])"
            ]
          },
          "metadata": {},
          "execution_count": 5
        }
      ]
    },
    {
      "cell_type": "code",
      "source": [
        "fruits.items()"
      ],
      "metadata": {
        "id": "Hb1HHOkH9w8-",
        "outputId": "e49d371d-8bab-410b-bf7b-8b801a1e2dec",
        "colab": {
          "base_uri": "https://localhost:8080/"
        }
      },
      "execution_count": 6,
      "outputs": [
        {
          "output_type": "execute_result",
          "data": {
            "text/plain": [
              "dict_items([(1, 'apple'), (2, 'orange'), (3, 'grapes')])"
            ]
          },
          "metadata": {},
          "execution_count": 6
        }
      ]
    },
    {
      "cell_type": "code",
      "source": [
        "fruits"
      ],
      "metadata": {
        "id": "CPQ4A4-x91aG",
        "outputId": "b575a0a9-d13c-425f-ded6-eb8f3a049d31",
        "colab": {
          "base_uri": "https://localhost:8080/"
        }
      },
      "execution_count": 7,
      "outputs": [
        {
          "output_type": "execute_result",
          "data": {
            "text/plain": [
              "{1: 'apple', 2: 'orange', 3: 'grapes'}"
            ]
          },
          "metadata": {},
          "execution_count": 7
        }
      ]
    },
    {
      "cell_type": "code",
      "execution_count": null,
      "metadata": {
        "id": "doyg85zc1nYU",
        "outputId": "a77567b2-96cb-4121-d748-d85dc299d35d",
        "colab": {
          "base_uri": "https://localhost:8080/",
          "height": 35
        }
      },
      "outputs": [
        {
          "output_type": "execute_result",
          "data": {
            "text/plain": [
              "'INR'"
            ],
            "application/vnd.google.colaboratory.intrinsic+json": {
              "type": "string"
            }
          },
          "metadata": {},
          "execution_count": 11
        }
      ],
      "source": [
        "# Creating a dictionary\n",
        "\n",
        "d1 = {\"India\": \"INR\", \"USA\": \"USD\", \"Hong Kong\": \"HKD\"}\n",
        "# Accessing value using keys\n",
        "\n",
        "d1[\"India\"]"
      ]
    },
    {
      "cell_type": "code",
      "execution_count": null,
      "metadata": {
        "id": "KzPFmNY21nYW",
        "outputId": "c16f5813-f8a2-4dd2-af35-2a06889405b4",
        "colab": {
          "base_uri": "https://localhost:8080/"
        }
      },
      "outputs": [
        {
          "output_type": "execute_result",
          "data": {
            "text/plain": [
              "{'India': 'NEW', 'USA': 'USD', 'Hong Kong': 'HKD'}"
            ]
          },
          "metadata": {},
          "execution_count": 12
        }
      ],
      "source": [
        "# Replacing the value for a key in a dictionary\n",
        "\n",
        "d1[\"India\"] = \"NEW\"\n",
        "d1"
      ]
    },
    {
      "cell_type": "code",
      "execution_count": null,
      "metadata": {
        "id": "Vnd2LcMi1nYW"
      },
      "outputs": [],
      "source": [
        "d1[\"Japan\"] = \"YEN\""
      ]
    },
    {
      "cell_type": "code",
      "execution_count": null,
      "metadata": {
        "id": "XgdZxEEw1nYX",
        "outputId": "487daaad-f87a-40a1-d084-23fa8fb358a1"
      },
      "outputs": [
        {
          "data": {
            "text/plain": [
              "{'India': 'YEN', 'USA': 'USD', 'Hong Kong': 'HKD', 'Japan': 'YEN'}"
            ]
          },
          "execution_count": 23,
          "metadata": {},
          "output_type": "execute_result"
        }
      ],
      "source": [
        "d1"
      ]
    },
    {
      "cell_type": "code",
      "execution_count": null,
      "metadata": {
        "id": "f1bg2Kk21nYX"
      },
      "outputs": [],
      "source": [
        "# Inserting a new key-value pair\n",
        "\n",
        "d1[\"Japan\"] = \"YEN\"\n",
        "\n",
        "d1"
      ]
    },
    {
      "cell_type": "code",
      "execution_count": null,
      "metadata": {
        "id": "3JvC_VfP1nYZ",
        "outputId": "793afcdf-064d-4b27-d609-71d920e0b8da"
      },
      "outputs": [
        {
          "data": {
            "text/plain": [
              "{'India': 'YEN', 'USA': 'USD', 'Hong Kong': 'HKD', 'Japan': 'YEN'}"
            ]
          },
          "execution_count": 24,
          "metadata": {},
          "output_type": "execute_result"
        }
      ],
      "source": [
        "d1"
      ]
    },
    {
      "cell_type": "code",
      "execution_count": null,
      "metadata": {
        "id": "5ia0WCTx1nYZ",
        "outputId": "398ede55-d815-4243-d9dd-473c174ee7c5"
      },
      "outputs": [
        {
          "data": {
            "text/plain": [
              "{'India': 'YEN', 'USA': 'USD', 'Hong Kong': 'HKD'}"
            ]
          },
          "execution_count": 25,
          "metadata": {},
          "output_type": "execute_result"
        }
      ],
      "source": [
        "# Deleting a key value pair\n",
        "\n",
        "del d1[\"Japan\"]\n",
        "\n",
        "d1"
      ]
    },
    {
      "cell_type": "code",
      "execution_count": null,
      "metadata": {
        "id": "FjMlTWBB1nYa",
        "outputId": "350c8cc3-f5df-4dc4-aaf0-7d0a58d3ce25",
        "colab": {
          "base_uri": "https://localhost:8080/"
        }
      },
      "outputs": [
        {
          "output_type": "execute_result",
          "data": {
            "text/plain": [
              "['Hong Kong', 'India', 'USA']"
            ]
          },
          "metadata": {},
          "execution_count": 13
        }
      ],
      "source": [
        "# Sorting a dictionary\n",
        "\n",
        "sorted(d1)"
      ]
    },
    {
      "cell_type": "code",
      "execution_count": null,
      "metadata": {
        "id": "lZYA6pf91nYa"
      },
      "outputs": [],
      "source": [
        "d1[\"India\"] = \"INR\""
      ]
    },
    {
      "cell_type": "code",
      "execution_count": null,
      "metadata": {
        "id": "v7fGKkJl1nYa",
        "outputId": "a4a86038-2669-4859-ab05-fb0ace497bf6"
      },
      "outputs": [
        {
          "data": {
            "text/plain": [
              "{'India': 'INR', 'USA': 'USD', 'Hong Kong': 'HKD'}"
            ]
          },
          "execution_count": 29,
          "metadata": {},
          "output_type": "execute_result"
        }
      ],
      "source": [
        "d1"
      ]
    },
    {
      "cell_type": "code",
      "execution_count": null,
      "metadata": {
        "id": "Wg3iYSj61nYa",
        "outputId": "bfaae38a-0801-495b-b570-0700183b02cb"
      },
      "outputs": [
        {
          "data": {
            "text/plain": [
              "dict_values(['INR', 'USD', 'HKD'])"
            ]
          },
          "execution_count": 33,
          "metadata": {},
          "output_type": "execute_result"
        }
      ],
      "source": [
        "# values() method\n",
        "\n",
        "d1.values()"
      ]
    },
    {
      "cell_type": "code",
      "execution_count": null,
      "metadata": {
        "id": "c5tyHNQC1nYb",
        "outputId": "cc8ac519-19f7-4dd0-84a4-db3b12d7c72a"
      },
      "outputs": [
        {
          "data": {
            "text/plain": [
              "dict_keys(['India', 'USA', 'Hong Kong'])"
            ]
          },
          "execution_count": 34,
          "metadata": {},
          "output_type": "execute_result"
        }
      ],
      "source": [
        "# keys() method\n",
        "\n",
        "d1.keys()"
      ]
    },
    {
      "cell_type": "code",
      "execution_count": null,
      "metadata": {
        "id": "kZsFeNVG1nYb",
        "outputId": "76e7016c-dc82-4790-951c-6d6642afd2a0",
        "colab": {
          "base_uri": "https://localhost:8080/",
          "height": 35
        }
      },
      "outputs": [
        {
          "output_type": "execute_result",
          "data": {
            "text/plain": [
              "'NEW'"
            ],
            "application/vnd.google.colaboratory.intrinsic+json": {
              "type": "string"
            }
          },
          "metadata": {},
          "execution_count": 14
        }
      ],
      "source": [
        "# get() method\n",
        "\n",
        "d1.get('India')"
      ]
    },
    {
      "cell_type": "code",
      "execution_count": null,
      "metadata": {
        "id": "gXk3tjCJ1nYb",
        "outputId": "626eb631-0dcc-4118-d640-b7e8a41ec6f0",
        "colab": {
          "base_uri": "https://localhost:8080/"
        }
      },
      "outputs": [
        {
          "output_type": "execute_result",
          "data": {
            "text/plain": [
              "{'India': 'Rs', 'USA': 'USD', 'Hong Kong': 'HKD'}"
            ]
          },
          "metadata": {},
          "execution_count": 15
        }
      ],
      "source": [
        "# update() method\n",
        "\n",
        "d1.update({\"India\": \"Rs\"})\n",
        "d1[\"India\"] = \"Rs\"\n",
        "\n",
        "d1"
      ]
    },
    {
      "cell_type": "markdown",
      "metadata": {
        "id": "As8U4_bg1nYc"
      },
      "source": [
        "##### Example 1\n",
        "##### Description\n",
        "Write code to fetch the profession of the employee with Employee id - 104 from an employee input given in the form of a dictionary where key represent employee id and values represent the name, age, and profession (in the same order).\n",
        "\n",
        "Sample input:\n",
        "\n",
        "Employee_data = { 101:['Shiva', 24, 'Content Strategist'] ,102:['Udit',25,'Content Strategist'], 103:['Sonam', 28,'Sr Manager'], 104:['Ansari',29,'Product Lead' ],105:['Huzefa',32,'Project Manager' ]}\n",
        "\n",
        "Sample output:\n",
        "\n",
        "'Product Lead'\n",
        "\n",
        "Note: Assume that employee data would be available in the data provided to you"
      ]
    },
    {
      "cell_type": "code",
      "execution_count": 8,
      "metadata": {
        "id": "hHjJrIlL1nYc"
      },
      "outputs": [],
      "source": [
        "Employee_data = { 101:['Shiva', 24, 'Content Strategist'] ,102:['Udit',25,'Content Strategist'], 103:['Sonam', 28,'Sr Manager'], 104:['Ansari',29,'Product Lead' ],105:['Huzefa',32,'Project Manager' ]}"
      ]
    },
    {
      "cell_type": "code",
      "execution_count": 9,
      "metadata": {
        "id": "weXY0aFX1nYd",
        "outputId": "449d0ad1-9f9f-4d1f-c902-412fd146cd45",
        "colab": {
          "base_uri": "https://localhost:8080/"
        }
      },
      "outputs": [
        {
          "output_type": "execute_result",
          "data": {
            "text/plain": [
              "dict"
            ]
          },
          "metadata": {},
          "execution_count": 9
        }
      ],
      "source": [
        "type(Employee_data)"
      ]
    },
    {
      "cell_type": "code",
      "execution_count": 10,
      "metadata": {
        "id": "23ej8Iq01nYd",
        "outputId": "ced7f444-a7fe-4dd1-cd2f-90d9abfd1237",
        "colab": {
          "base_uri": "https://localhost:8080/"
        }
      },
      "outputs": [
        {
          "output_type": "execute_result",
          "data": {
            "text/plain": [
              "{101: ['Shiva', 24, 'Content Strategist'],\n",
              " 102: ['Udit', 25, 'Content Strategist'],\n",
              " 103: ['Sonam', 28, 'Sr Manager'],\n",
              " 104: ['Ansari', 29, 'Product Lead'],\n",
              " 105: ['Huzefa', 32, 'Project Manager']}"
            ]
          },
          "metadata": {},
          "execution_count": 10
        }
      ],
      "source": [
        "Employee_data"
      ]
    },
    {
      "cell_type": "code",
      "execution_count": 11,
      "metadata": {
        "id": "s2p2PRP21nYd",
        "outputId": "4d7b7fbe-dff6-4edd-a01c-aa3f8e9b05b5",
        "colab": {
          "base_uri": "https://localhost:8080/"
        }
      },
      "outputs": [
        {
          "output_type": "execute_result",
          "data": {
            "text/plain": [
              "list"
            ]
          },
          "metadata": {},
          "execution_count": 11
        }
      ],
      "source": [
        "type(Employee_data.get(104))"
      ]
    },
    {
      "cell_type": "code",
      "execution_count": 12,
      "metadata": {
        "id": "m-8dAt-81nYe"
      },
      "outputs": [],
      "source": [
        "list_2 = Employee_data.get(104)"
      ]
    },
    {
      "cell_type": "code",
      "execution_count": 13,
      "metadata": {
        "id": "LQTrJ0e11nYe",
        "outputId": "d6311692-e462-4fe6-d0a1-d6594cc3a7fd",
        "colab": {
          "base_uri": "https://localhost:8080/",
          "height": 36
        }
      },
      "outputs": [
        {
          "output_type": "execute_result",
          "data": {
            "text/plain": [
              "'Product Lead'"
            ],
            "application/vnd.google.colaboratory.intrinsic+json": {
              "type": "string"
            }
          },
          "metadata": {},
          "execution_count": 13
        }
      ],
      "source": [
        "list_2[2]"
      ]
    },
    {
      "cell_type": "code",
      "execution_count": 14,
      "metadata": {
        "id": "ySJU-oSb1nYe",
        "outputId": "0afa4b2b-5d73-4d03-a7d3-b2da14b8b3b3",
        "colab": {
          "base_uri": "https://localhost:8080/",
          "height": 36
        }
      },
      "outputs": [
        {
          "output_type": "execute_result",
          "data": {
            "text/plain": [
              "'Product Lead'"
            ],
            "application/vnd.google.colaboratory.intrinsic+json": {
              "type": "string"
            }
          },
          "metadata": {},
          "execution_count": 14
        }
      ],
      "source": [
        "Employee_data.get(104)[2]"
      ]
    },
    {
      "cell_type": "markdown",
      "metadata": {
        "id": "MuNrygtj1nYf"
      },
      "source": [
        "##### Example 2\n",
        "\n",
        "Suppose dict_1 = {\"Python'':40, \"R'':45}. What command should be used to delete the entry \"R\"?"
      ]
    },
    {
      "cell_type": "code",
      "execution_count": 15,
      "metadata": {
        "id": "rL4vjDLd1nYf"
      },
      "outputs": [],
      "source": [
        "dict_1 = {\"Python\":40, \"R\":45}"
      ]
    },
    {
      "cell_type": "code",
      "execution_count": 16,
      "metadata": {
        "id": "ikBoNqou1nYf"
      },
      "outputs": [],
      "source": [
        "del dict_1[\"R\"]"
      ]
    },
    {
      "cell_type": "code",
      "execution_count": 17,
      "metadata": {
        "id": "D1Qu06sU1nYf",
        "outputId": "e8c6d8db-b7fa-4aa8-b3fc-10dc8eaf04cc",
        "colab": {
          "base_uri": "https://localhost:8080/"
        }
      },
      "outputs": [
        {
          "output_type": "execute_result",
          "data": {
            "text/plain": [
              "{'Python': 40}"
            ]
          },
          "metadata": {},
          "execution_count": 17
        }
      ],
      "source": [
        "dict_1"
      ]
    },
    {
      "cell_type": "markdown",
      "metadata": {
        "id": "04uEC7Lg1nY1"
      },
      "source": [
        "#####Example 3\n",
        "\n",
        "d = {'Python':40, 'R':45}\n",
        "\n",
        "print(list(d.keys()))"
      ]
    },
    {
      "cell_type": "code",
      "execution_count": null,
      "metadata": {
        "id": "OUm4heub1nY2",
        "outputId": "d0df6768-990c-4849-9a9b-d4e7bb50b7c3"
      },
      "outputs": [
        {
          "name": "stdout",
          "output_type": "stream",
          "text": [
            "['Python', 'R']\n"
          ]
        }
      ],
      "source": [
        "d = {'Python':40, 'R':45}\n",
        "\n",
        "\n",
        "print(list(d.keys()))"
      ]
    },
    {
      "cell_type": "markdown",
      "metadata": {
        "id": "gVRQEPh81nY2"
      },
      "source": [
        "\n",
        "```\n",
        "\n",
        "##### Example 4\n",
        "\n",
        "##### Description\n",
        "From a Dictionary input_dict={'Name': 'Monty', 'Profession': 'Singer' }, get the value of a key based on user input which is not a part of the dictionary, in such a way that Python doesn't hit an error. If the key does not exist in the dictionary, Python should return 'NA'.\n",
        "\n",
        "Sample Input:\n",
        "\n",
        "{'Name': 'Monty', 'Profession': 'Singer' }\n",
        "\n",
        "\n",
        "\n",
        "Sample Output:\n",
        "\n",
        "NA"
      ]
    },
    {
      "cell_type": "code",
      "execution_count": 18,
      "metadata": {
        "id": "1I_anhhf1nY3"
      },
      "outputs": [],
      "source": [
        "input_dict={'Name': 'Monty', 'Profession': 'Singer' }"
      ]
    },
    {
      "cell_type": "code",
      "execution_count": 19,
      "metadata": {
        "id": "FRdUGz9W1nY3"
      },
      "outputs": [],
      "source": [
        "input_dict[\"Label\"] = \"NA\""
      ]
    },
    {
      "cell_type": "code",
      "execution_count": 20,
      "metadata": {
        "id": "eimqjZBW1nY3",
        "outputId": "438c7139-4fdd-42af-c74d-1ace6738af52",
        "colab": {
          "base_uri": "https://localhost:8080/",
          "height": 36
        }
      },
      "outputs": [
        {
          "output_type": "execute_result",
          "data": {
            "text/plain": [
              "'NA'"
            ],
            "application/vnd.google.colaboratory.intrinsic+json": {
              "type": "string"
            }
          },
          "metadata": {},
          "execution_count": 20
        }
      ],
      "source": [
        "input_dict[\"Label\"]"
      ]
    },
    {
      "cell_type": "code",
      "execution_count": 21,
      "metadata": {
        "id": "_KFJITU31nY4"
      },
      "outputs": [],
      "source": [
        "input_dict = {'Name': 'Monty', 'Profession': 'Singer' }"
      ]
    },
    {
      "cell_type": "code",
      "execution_count": 22,
      "metadata": {
        "id": "NJ_ZRZht1nY4",
        "outputId": "17c88fd9-f243-4bbc-b1ec-3d15b83532cc",
        "colab": {
          "base_uri": "https://localhost:8080/"
        }
      },
      "outputs": [
        {
          "output_type": "execute_result",
          "data": {
            "text/plain": [
              "dict_keys(['Name', 'Profession'])"
            ]
          },
          "metadata": {},
          "execution_count": 22
        }
      ],
      "source": [
        "input_dict.keys()"
      ]
    },
    {
      "cell_type": "code",
      "execution_count": 23,
      "metadata": {
        "id": "tiiPS_p91nY4",
        "colab": {
          "base_uri": "https://localhost:8080/"
        },
        "outputId": "7fa36f19-628c-4b05-d91e-8bf373dc28cf"
      },
      "outputs": [
        {
          "output_type": "stream",
          "name": "stdout",
          "text": [
            "NA\n"
          ]
        }
      ],
      "source": [
        "input_dict = {'Name': 'Monty', 'Profession': 'Singer' }\n",
        "\n",
        "if \"Label\" in input_dict.keys():\n",
        "    print(input_dict[\"Label\"])\n",
        "else:\n",
        "    print(\"NA\")"
      ]
    },
    {
      "cell_type": "markdown",
      "metadata": {
        "id": "7V3re_Kj1nY4"
      },
      "source": [
        "##### Example 5\n",
        "\n",
        "- List of Values in a Dictionary.\n",
        "\n",
        "##### Description\n",
        "Create a SORTED list of all values from the dictionary input_dict = {'Jack Dorsey' : 'Twitter' , 'Tim Cook' : 'Apple','Jeff Bezos' : 'Amazon' ,'Mukesh Ambani' : 'RJIO'}\n",
        "\n",
        "\n",
        "\n",
        "Sample Input:\n",
        "\n",
        "{'Jack Dorsey' : 'Twitter' , 'Tim Cook' : 'Apple','Jeff Bezos' : 'Amazon' ,'Mukesh Ambani' : 'RJIO'}\n",
        "\n",
        "\n",
        "\n",
        "Sample Output:\n",
        "\n",
        "﻿['Amazon', 'Apple', 'RJIO', 'Twitter']"
      ]
    },
    {
      "cell_type": "code",
      "execution_count": null,
      "metadata": {
        "id": "ccJpgeC71nZA"
      },
      "outputs": [],
      "source": [
        "input_dict = {'Jack Dorsey' : 'Twitter' , 'Tim Cook' : 'Apple','Jeff Bezos' : 'Amazon' ,'Mukesh Ambani' : 'RJIO'}"
      ]
    },
    {
      "cell_type": "code",
      "execution_count": null,
      "metadata": {
        "id": "pT7NZhHP1nZB",
        "outputId": "0fe2fe78-8c25-4b27-da22-83d56137c868"
      },
      "outputs": [
        {
          "data": {
            "text/plain": [
              "['Amazon', 'Apple', 'RJIO', 'Twitter']"
            ]
          },
          "execution_count": 71,
          "metadata": {},
          "output_type": "execute_result"
        }
      ],
      "source": [
        "sorted(input_dict.values())"
      ]
    }
  ],
  "metadata": {
    "kernelspec": {
      "display_name": "Python 3",
      "language": "python",
      "name": "python3"
    },
    "language_info": {
      "codemirror_mode": {
        "name": "ipython",
        "version": 3
      },
      "file_extension": ".py",
      "mimetype": "text/x-python",
      "name": "python",
      "nbconvert_exporter": "python",
      "pygments_lexer": "ipython3",
      "version": "3.7.3"
    },
    "colab": {
      "provenance": [],
      "include_colab_link": true
    }
  },
  "nbformat": 4,
  "nbformat_minor": 0
}