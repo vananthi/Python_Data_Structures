{
  "nbformat": 4,
  "nbformat_minor": 0,
  "metadata": {
    "colab": {
      "provenance": [],
      "include_colab_link": true
    },
    "kernelspec": {
      "name": "python3",
      "display_name": "Python 3"
    },
    "language_info": {
      "name": "python"
    }
  },
  "cells": [
    {
      "cell_type": "markdown",
      "metadata": {
        "id": "view-in-github",
        "colab_type": "text"
      },
      "source": [
        "<a href=\"https://colab.research.google.com/github/vananthi/Python_Data_Structures/blob/main/Data_structure_list.ipynb\" target=\"_parent\"><img src=\"https://colab.research.google.com/assets/colab-badge.svg\" alt=\"Open In Colab\"/></a>"
      ]
    },
    {
      "cell_type": "code",
      "source": [
        "list=[]   # empty list is possible"
      ],
      "metadata": {
        "id": "Qb6eLQFQuQLb"
      },
      "execution_count": null,
      "outputs": []
    },
    {
      "cell_type": "code",
      "source": [
        "list"
      ],
      "metadata": {
        "colab": {
          "base_uri": "https://localhost:8080/"
        },
        "id": "A3vuQtwsuX2q",
        "outputId": "071f2b74-17ed-4bc5-b8d0-9a238a2db72c"
      },
      "execution_count": null,
      "outputs": [
        {
          "output_type": "execute_result",
          "data": {
            "text/plain": [
              "[]"
            ]
          },
          "metadata": {},
          "execution_count": 2
        }
      ]
    },
    {
      "cell_type": "code",
      "source": [
        "t_list = [5,6.8,'india',True,5,1+0j] # list accept all data types"
      ],
      "metadata": {
        "id": "vtS_DEJeujZW"
      },
      "execution_count": null,
      "outputs": []
    },
    {
      "cell_type": "code",
      "source": [
        "len(t_list) # to find the length of list"
      ],
      "metadata": {
        "colab": {
          "base_uri": "https://localhost:8080/"
        },
        "id": "pUXdkisY6o0p",
        "outputId": "2924f844-3f5d-4455-a4a3-0e216f82fd22"
      },
      "execution_count": null,
      "outputs": [
        {
          "output_type": "execute_result",
          "data": {
            "text/plain": [
              "6"
            ]
          },
          "metadata": {},
          "execution_count": 57
        }
      ]
    },
    {
      "cell_type": "code",
      "source": [
        "t_list.append([5,7,'k']) #nested liss"
      ],
      "metadata": {
        "id": "VtY6cjou7JoO"
      },
      "execution_count": null,
      "outputs": []
    },
    {
      "cell_type": "code",
      "source": [
        "t_list"
      ],
      "metadata": {
        "colab": {
          "base_uri": "https://localhost:8080/"
        },
        "id": "ec9dE4Bjv5ZR",
        "outputId": "e8d87af6-76ee-4c39-82ed-1cca769564ff"
      },
      "execution_count": null,
      "outputs": [
        {
          "output_type": "execute_result",
          "data": {
            "text/plain": [
              "[5, 6.8, 'india', True, 5, (1+0j), [5, 7, 'k']]"
            ]
          },
          "metadata": {},
          "execution_count": 59
        }
      ]
    },
    {
      "cell_type": "code",
      "source": [
        "t_list.insert(2,[9,7,8]) # insert is possible"
      ],
      "metadata": {
        "id": "MoAR9deI8rm7"
      },
      "execution_count": null,
      "outputs": []
    },
    {
      "cell_type": "code",
      "source": [
        "t_list"
      ],
      "metadata": {
        "colab": {
          "base_uri": "https://localhost:8080/"
        },
        "id": "HASr64q5wABd",
        "outputId": "bf0b9233-ea65-4a79-ff50-fb34b8d3170f"
      },
      "execution_count": null,
      "outputs": [
        {
          "output_type": "execute_result",
          "data": {
            "text/plain": [
              "[5, 6.8, [9, 7, 8], 'india', True, 5, (1+0j), [5, 7, 'k']]"
            ]
          },
          "metadata": {},
          "execution_count": 61
        }
      ]
    },
    {
      "cell_type": "code",
      "source": [
        "t_list.extend(['y',9,5.6])"
      ],
      "metadata": {
        "id": "rNl7c5ev82Lb"
      },
      "execution_count": null,
      "outputs": []
    },
    {
      "cell_type": "code",
      "source": [
        "t_list"
      ],
      "metadata": {
        "colab": {
          "base_uri": "https://localhost:8080/"
        },
        "id": "rV1PsMLTwUDM",
        "outputId": "6bae885a-3287-4b3f-afd7-c45173a7f3b7"
      },
      "execution_count": null,
      "outputs": [
        {
          "output_type": "execute_result",
          "data": {
            "text/plain": [
              "[5, 6.8, [9, 7, 8], 'india', True, 5, (1+0j), [5, 7, 'k'], 'y', 9, 5.6]"
            ]
          },
          "metadata": {},
          "execution_count": 63
        }
      ]
    },
    {
      "cell_type": "code",
      "source": [
        "t_list# duplication is possible"
      ],
      "metadata": {
        "colab": {
          "base_uri": "https://localhost:8080/"
        },
        "id": "2x6-pXDV79jj",
        "outputId": "b288d3d2-46df-465f-c429-95b2b6aa2416"
      },
      "execution_count": null,
      "outputs": [
        {
          "output_type": "execute_result",
          "data": {
            "text/plain": [
              "[5, 6.8, [9, 7, 8], 'india', True, 5, (1+0j), [5, 7, 'k'], 'y', 9, 5.6]"
            ]
          },
          "metadata": {},
          "execution_count": 64
        }
      ]
    },
    {
      "cell_type": "code",
      "source": [
        "t_list[3]  # list is indexable"
      ],
      "metadata": {
        "colab": {
          "base_uri": "https://localhost:8080/",
          "height": 36
        },
        "id": "-PSeAxUt63Q6",
        "outputId": "3a083ad6-ff33-4b8a-f3c9-976d1eff9fae"
      },
      "execution_count": null,
      "outputs": [
        {
          "output_type": "execute_result",
          "data": {
            "text/plain": [
              "'india'"
            ],
            "application/vnd.google.colaboratory.intrinsic+json": {
              "type": "string"
            }
          },
          "metadata": {},
          "execution_count": 65
        }
      ]
    },
    {
      "cell_type": "code",
      "source": [
        "t_list[-1] # negative index also possible"
      ],
      "metadata": {
        "colab": {
          "base_uri": "https://localhost:8080/"
        },
        "id": "O_ENzQsy2txh",
        "outputId": "a5c6a7d8-f8b8-4a1d-d72b-f90fe1491730"
      },
      "execution_count": null,
      "outputs": [
        {
          "output_type": "execute_result",
          "data": {
            "text/plain": [
              "5"
            ]
          },
          "metadata": {},
          "execution_count": 78
        }
      ]
    },
    {
      "cell_type": "code",
      "source": [
        "type(t_list)  # to find the type"
      ],
      "metadata": {
        "colab": {
          "base_uri": "https://localhost:8080/"
        },
        "id": "QHE0MAIe6BsK",
        "outputId": "726a0865-342f-4ff8-bafd-9bc4ab59f241"
      },
      "execution_count": null,
      "outputs": [
        {
          "output_type": "execute_result",
          "data": {
            "text/plain": [
              "list"
            ]
          },
          "metadata": {},
          "execution_count": 66
        }
      ]
    },
    {
      "cell_type": "code",
      "source": [
        "t_list.pop() # delete the last index"
      ],
      "metadata": {
        "colab": {
          "base_uri": "https://localhost:8080/"
        },
        "id": "zBKEAXPw_OvI",
        "outputId": "9ea953ce-bbf7-4907-f105-f3263f3ba59d"
      },
      "execution_count": null,
      "outputs": [
        {
          "output_type": "execute_result",
          "data": {
            "text/plain": [
              "5.6"
            ]
          },
          "metadata": {},
          "execution_count": 67
        }
      ]
    },
    {
      "cell_type": "code",
      "source": [
        "t_list"
      ],
      "metadata": {
        "id": "VcKjRwAF_Y-5",
        "outputId": "ff0ca2e2-0163-4de4-85b4-297c952f29a4",
        "colab": {
          "base_uri": "https://localhost:8080/"
        }
      },
      "execution_count": null,
      "outputs": [
        {
          "output_type": "execute_result",
          "data": {
            "text/plain": [
              "[5, 6.8, [9, 7, 8], 'india', True, 5, (1+0j), [5, 7, 'k'], 'y', 9]"
            ]
          },
          "metadata": {},
          "execution_count": 68
        }
      ]
    },
    {
      "cell_type": "code",
      "source": [
        "t_list.count"
      ],
      "metadata": {
        "colab": {
          "base_uri": "https://localhost:8080/"
        },
        "id": "SJki0exd_5aW",
        "outputId": "7e9e816b-064d-4eaa-8fe1-deb8ea0f2b5b"
      },
      "execution_count": null,
      "outputs": [
        {
          "output_type": "execute_result",
          "data": {
            "text/plain": [
              "<function list.count(value, /)>"
            ]
          },
          "metadata": {},
          "execution_count": 70
        }
      ]
    },
    {
      "cell_type": "code",
      "source": [
        "t_list[2:6] # slicing is possible"
      ],
      "metadata": {
        "colab": {
          "base_uri": "https://localhost:8080/"
        },
        "id": "1zfQ130uzcrY",
        "outputId": "af3f8af8-c9d2-4e45-d1b4-aa295ba2818a"
      },
      "execution_count": null,
      "outputs": [
        {
          "output_type": "execute_result",
          "data": {
            "text/plain": [
              "[[9, 7, 8], 'india', True, 5]"
            ]
          },
          "metadata": {},
          "execution_count": 71
        }
      ]
    },
    {
      "cell_type": "code",
      "source": [
        "t_list.reverse() # reverse is possible"
      ],
      "metadata": {
        "id": "1yBmxRBa0LYF"
      },
      "execution_count": null,
      "outputs": []
    },
    {
      "cell_type": "code",
      "source": [
        "t_list"
      ],
      "metadata": {
        "colab": {
          "base_uri": "https://localhost:8080/"
        },
        "id": "h3v37UzV2Br6",
        "outputId": "e47a1327-7ede-4e5f-9700-dccf0cab4549"
      },
      "execution_count": null,
      "outputs": [
        {
          "output_type": "execute_result",
          "data": {
            "text/plain": [
              "[9, 'y', [5, 7, 'k'], (1+0j), 5, True, 'india', [9, 7, 8], 6.8, 5]"
            ]
          },
          "metadata": {},
          "execution_count": 75
        }
      ]
    },
    {
      "cell_type": "code",
      "source": [
        "t_list[3]='apple' # replace is possible\n"
      ],
      "metadata": {
        "id": "cI5tTSW_2aKm"
      },
      "execution_count": null,
      "outputs": []
    },
    {
      "cell_type": "code",
      "source": [
        "t_list"
      ],
      "metadata": {
        "colab": {
          "base_uri": "https://localhost:8080/"
        },
        "id": "H4TKHLWG3KDS",
        "outputId": "56f070cd-9271-48be-9744-da7eedbd1e04"
      },
      "execution_count": null,
      "outputs": [
        {
          "output_type": "execute_result",
          "data": {
            "text/plain": [
              "[5, 6.8, 'india', 'apple', 5, (1+0j)]"
            ]
          },
          "metadata": {},
          "execution_count": 91
        }
      ]
    },
    {
      "cell_type": "markdown",
      "source": [
        "append()\n",
        "extend()\n",
        "insert()\n",
        "remove()\n",
        "index()\n",
        "count()\n",
        "pop() # remove the last index\n",
        "reverse ()\n",
        "sort()\n",
        "copy()\n",
        "clear()\n",
        "any()\n",
        "all()\n",
        "bool()\n",
        "enumerate()\n",
        "filter()\n",
        "iter()\n",
        "list()\n",
        "len()\n",
        "max()\n",
        "min()\n",
        "map()\n",
        "reversed()\n",
        "slice()\n",
        "sorted()\n",
        "sum()\n",
        "zip()"
      ],
      "metadata": {
        "id": "aFVyXrACAXEt"
      }
    },
    {
      "cell_type": "code",
      "source": [
        "t = [1,2,3,4,5,6,7,8,9]\n",
        "for i in t:\n",
        "  print(i*5)"
      ],
      "metadata": {
        "colab": {
          "base_uri": "https://localhost:8080/"
        },
        "id": "mhx3y296e-K8",
        "outputId": "dade4c39-ed13-4304-b509-47d7e4d2e0ff"
      },
      "execution_count": null,
      "outputs": [
        {
          "output_type": "stream",
          "name": "stdout",
          "text": [
            "5\n",
            "10\n",
            "15\n",
            "20\n",
            "25\n",
            "30\n",
            "35\n",
            "40\n",
            "45\n"
          ]
        }
      ]
    },
    {
      "cell_type": "code",
      "source": [
        "stu_list= ['sasi','indu','maran','mohana','ananthi']"
      ],
      "metadata": {
        "id": "kuEoc2koB42H"
      },
      "execution_count": null,
      "outputs": []
    },
    {
      "cell_type": "code",
      "source": [
        "for i in stu_list:\n",
        "  print(\"welcome to class\",i)  # for(i =0 ; i<=10,i++)"
      ],
      "metadata": {
        "colab": {
          "base_uri": "https://localhost:8080/"
        },
        "id": "tmyHMrkXCA1K",
        "outputId": "e769b55a-d8a0-4a79-ec1b-0c6cd4d82bcb"
      },
      "execution_count": null,
      "outputs": [
        {
          "output_type": "stream",
          "name": "stdout",
          "text": [
            "welcome to class sasi\n",
            "welcome to class indu\n",
            "welcome to class maran\n",
            "welcome to class mohana\n",
            "welcome to class ananthi\n"
          ]
        }
      ]
    },
    {
      "cell_type": "code",
      "source": [
        "name = \"ananthi\"\n",
        "for i in name:\n",
        "  print (i)"
      ],
      "metadata": {
        "colab": {
          "base_uri": "https://localhost:8080/"
        },
        "id": "O_90uPnEDhMB",
        "outputId": "3abd596c-6c39-4268-b6b6-8f721e970fef"
      },
      "execution_count": null,
      "outputs": [
        {
          "output_type": "stream",
          "name": "stdout",
          "text": [
            "a\n",
            "n\n",
            "a\n",
            "n\n",
            "t\n",
            "h\n",
            "i\n"
          ]
        }
      ]
    },
    {
      "cell_type": "code",
      "source": [
        "nat_num = [0,1,2,3,4,5,6,7,8,9]\n"
      ],
      "metadata": {
        "id": "yUNi4E1tEnJ_"
      },
      "execution_count": null,
      "outputs": []
    },
    {
      "cell_type": "code",
      "source": [
        "country = ['usa','japan','india','sweden','finland']\n",
        "for i in country:\n",
        "  #print(\"hi\")\n",
        "  if i == 'india':\n",
        "    print(\"welcome\",i)\n",
        "  else:\n",
        "    print(\"sorry not allowed\")"
      ],
      "metadata": {
        "colab": {
          "base_uri": "https://localhost:8080/"
        },
        "id": "uZiFH_BLfiZ1",
        "outputId": "1bb33d2a-0733-491c-8682-3a48a641e4e3"
      },
      "execution_count": null,
      "outputs": [
        {
          "output_type": "stream",
          "name": "stdout",
          "text": [
            "sorry not allowed\n",
            "sorry not allowed\n",
            "welcome india\n",
            "sorry not allowed\n",
            "sorry not allowed\n"
          ]
        }
      ]
    }
  ]
}